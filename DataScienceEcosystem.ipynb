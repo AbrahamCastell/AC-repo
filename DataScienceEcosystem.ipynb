{
 "cells": [
  {
   "cell_type": "markdown",
   "id": "7a52164b-1582-431c-84bc-12a6b05a20bf",
   "metadata": {},
   "source": [
    "# Data Science Tools and Ecosystem using H1 heading"
   ]
  },
  {
   "cell_type": "markdown",
   "id": "b145705b-c8c3-4216-bc6d-18ac8442abf8",
   "metadata": {},
   "source": [
    "This notebook shows some tool examples and the Ecosystem."
   ]
  },
  {
   "cell_type": "markdown",
   "id": "e672102d-987e-49a3-8680-c21fdef0d145",
   "metadata": {},
   "source": [
    "**Objetives**\n",
    "\n",
    "* Popular Data Science Language\n",
    "* Create a Jupiter Notebook\n",
    "* Create ordered-unordered lists and tables\n",
    "* Evaluate Expressions using Phyton (add, multiply and convert)\n",
    "* Share Notebooks on GitHub"
   ]
  },
  {
   "cell_type": "markdown",
   "id": "1a52fae3-0d95-4c7e-a3c1-268aef0de89a",
   "metadata": {},
   "source": [
    "**Some popular Data Science languages are**\n",
    "1. Phyton\n",
    "2. R\n",
    "3. Julia\n",
    "4. SQL\n",
    "5. Scala"
   ]
  },
  {
   "cell_type": "markdown",
   "id": "7189c4b6-d78a-4607-9c90-aace3dd3d4b1",
   "metadata": {},
   "source": [
    "**The most common libraries used in Data Science are:**\n",
    "\n",
    "1. NumPy\n",
    "2. Pandas\n",
    "3. Matplolib"
   ]
  },
  {
   "cell_type": "markdown",
   "id": "27d0c46f-2471-44fe-aa3d-ee63362418a5",
   "metadata": {},
   "source": [
    "| **Data Science Tools** |\n",
    "|------------------------|\n",
    "| Jupiter notebook       |\n",
    "| R Studio               |\n",
    "| Apache Spark           |"
   ]
  },
  {
   "cell_type": "markdown",
   "id": "2afad639-8bf0-4f0c-9f32-00897e7470b7",
   "metadata": {},
   "source": [
    "### Here are some arithmetic examples made in Phyton"
   ]
  },
  {
   "cell_type": "markdown",
   "id": "55c8e488-9848-41aa-afec-50f9eca1595f",
   "metadata": {},
   "source": [
    "Phyton evaluating the expression, multiply and adding units"
   ]
  },
  {
   "cell_type": "code",
   "execution_count": 41,
   "id": "788c175b-4917-4b11-a813-3a51ce7e4c7d",
   "metadata": {},
   "outputs": [
    {
     "data": {
      "text/plain": [
       "200"
      ]
     },
     "execution_count": 41,
     "metadata": {},
     "output_type": "execute_result"
    }
   ],
   "source": [
    "(20*5)+100"
   ]
  },
  {
   "cell_type": "markdown",
   "id": "52d8b454-f232-4384-83d0-cce089a85a63",
   "metadata": {},
   "source": [
    "The expression down below will convert minutes to hours **1 hour equals 60 minutes**"
   ]
  },
  {
   "cell_type": "code",
   "execution_count": 49,
   "id": "f0de1903-67fd-4c9f-8044-997c1ef575a1",
   "metadata": {},
   "outputs": [
    {
     "data": {
      "text/plain": [
       "10.0"
      ]
     },
     "execution_count": 49,
     "metadata": {},
     "output_type": "execute_result"
    }
   ],
   "source": [
    "600/60"
   ]
  },
  {
   "cell_type": "markdown",
   "id": "e4b9025f-dd4f-4ed9-9129-5e0b25d1b9b0",
   "metadata": {},
   "source": [
    "## Author "
   ]
  },
  {
   "cell_type": "markdown",
   "id": "20e8be13-908a-4c83-bcb0-5f9f9e0a609c",
   "metadata": {},
   "source": [
    "Julio Abraham Castellanos Rosado"
   ]
  },
  {
   "cell_type": "markdown",
   "id": "ca6fd320-67a6-4583-b8d5-976acca19a90",
   "metadata": {},
   "source": []
  }
 ],
 "metadata": {
  "kernelspec": {
   "display_name": "Python 3 (ipykernel)",
   "language": "python",
   "name": "python3"
  },
  "language_info": {
   "codemirror_mode": {
    "name": "ipython",
    "version": 3
   },
   "file_extension": ".py",
   "mimetype": "text/x-python",
   "name": "python",
   "nbconvert_exporter": "python",
   "pygments_lexer": "ipython3",
   "version": "3.12.4"
  }
 },
 "nbformat": 4,
 "nbformat_minor": 5
}
